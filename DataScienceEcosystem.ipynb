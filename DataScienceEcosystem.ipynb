{
 "cells": [
  {
   "cell_type": "markdown",
   "id": "5d3e59d3-ea13-4938-a703-3174b8d374c3",
   "metadata": {},
   "source": [
    "# Data Science Tools and Ecosystem"
   ]
  },
  {
   "cell_type": "markdown",
   "id": "ad0e92c7-dcb4-4804-86cc-5abb97a71cf0",
   "metadata": {},
   "source": [
    "**Objectives**\n",
    "\n",
    "* List popular languages for Data Science\n",
    "* Bla\n",
    "* .ba"
   ]
  },
  {
   "cell_type": "markdown",
   "id": "794cf9f2-26d2-4e01-913c-a956b29bba26",
   "metadata": {},
   "source": [
    "In this notebook, Data Science Tools and Ecosystem are summarized."
   ]
  },
  {
   "cell_type": "markdown",
   "id": "06c97739-a087-427e-8321-415eb1473a80",
   "metadata": {},
   "source": [
    "Some of the popular languages that Data Scientists use are:\n",
    "1. Python\n",
    "2. SQL\n",
    "3. R"
   ]
  },
  {
   "cell_type": "markdown",
   "id": "f8cb69ef-22b9-417b-a9bf-019cbdf79520",
   "metadata": {},
   "source": [
    "Some of the commonly used libraries used by Data Scientists include:\n",
    "1. Numpy\n",
    "2. Pandas\n",
    "3. Matplotlib"
   ]
  },
  {
   "cell_type": "markdown",
   "id": "73d32d07-4652-438c-a346-0c6563010c29",
   "metadata": {},
   "source": [
    "|Data Science Tools|\n",
    "|-|\n",
    "| JupyterNotebook|\n",
    "| RStudio|\n",
    "| Spyder|\n"
   ]
  },
  {
   "cell_type": "markdown",
   "id": "e3ef9c65-b521-45d2-a42e-426f76a1fb49",
   "metadata": {},
   "source": [
    "### Below are a few examples of evaluating arithmetic expressions in Python"
   ]
  },
  {
   "cell_type": "code",
   "execution_count": 6,
   "id": "81e4ab3e-5843-45a5-a62c-ab33049a783d",
   "metadata": {},
   "outputs": [
    {
     "data": {
      "text/plain": [
       "17"
      ]
     },
     "execution_count": 6,
     "metadata": {},
     "output_type": "execute_result"
    }
   ],
   "source": [
    "# This a simple arithmetic expression to mutiply then add integers\n",
    "(3*4)+5"
   ]
  },
  {
   "cell_type": "code",
   "execution_count": 7,
   "id": "66b796ec-53e6-4109-aa42-6042a3528050",
   "metadata": {},
   "outputs": [
    {
     "data": {
      "text/plain": [
       "3.3333333333333335"
      ]
     },
     "execution_count": 7,
     "metadata": {},
     "output_type": "execute_result"
    }
   ],
   "source": [
    "# This will convert 200 minutes to hours by diving by 60\n",
    "200/60"
   ]
  },
  {
   "cell_type": "markdown",
   "id": "68d46787-dd17-450d-acec-fa2b9c8177fa",
   "metadata": {},
   "source": [
    "## Author\n",
    "Yasin Sezgin"
   ]
  },
  {
   "cell_type": "code",
   "execution_count": null,
   "id": "e6908a8d-50e4-4848-8b01-dcb9d6d38f81",
   "metadata": {},
   "outputs": [],
   "source": []
  }
 ],
 "metadata": {
  "kernelspec": {
   "display_name": "Python 3 (ipykernel)",
   "language": "python",
   "name": "python3"
  },
  "language_info": {
   "codemirror_mode": {
    "name": "ipython",
    "version": 3
   },
   "file_extension": ".py",
   "mimetype": "text/x-python",
   "name": "python",
   "nbconvert_exporter": "python",
   "pygments_lexer": "ipython3",
   "version": "3.12.3"
  }
 },
 "nbformat": 4,
 "nbformat_minor": 5
}
